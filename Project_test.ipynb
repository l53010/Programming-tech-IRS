{
 "cells": [
  {
   "cell_type": "code",
   "execution_count": 6,
   "metadata": {},
   "outputs": [
    {
     "ename": "ModuleNotFoundError",
     "evalue": "No module named 'fix_yahoo_finance'",
     "output_type": "error",
     "traceback": [
      "\u001b[0;31m---------------------------------------------------------------------------\u001b[0m",
      "\u001b[0;31mModuleNotFoundError\u001b[0m                       Traceback (most recent call last)",
      "\u001b[0;32m<ipython-input-6-45cdf83ecd2f>\u001b[0m in \u001b[0;36m<module>\u001b[0;34m\u001b[0m\n\u001b[1;32m     12\u001b[0m \u001b[0;31m# Data fetching\u001b[0m\u001b[0;34m\u001b[0m\u001b[0;34m\u001b[0m\u001b[0;34m\u001b[0m\u001b[0m\n\u001b[1;32m     13\u001b[0m \u001b[0;31m#from pandas_datareader import data as pdr\u001b[0m\u001b[0;34m\u001b[0m\u001b[0;34m\u001b[0m\u001b[0;34m\u001b[0m\u001b[0m\n\u001b[0;32m---> 14\u001b[0;31m \u001b[0;32mimport\u001b[0m \u001b[0mfix_yahoo_finance\u001b[0m \u001b[0;32mas\u001b[0m \u001b[0myf\u001b[0m\u001b[0;34m\u001b[0m\u001b[0;34m\u001b[0m\u001b[0m\n\u001b[0m\u001b[1;32m     15\u001b[0m \u001b[0myf\u001b[0m\u001b[0;34m.\u001b[0m\u001b[0mpdr_override\u001b[0m\u001b[0;34m(\u001b[0m\u001b[0;34m)\u001b[0m\u001b[0;34m\u001b[0m\u001b[0;34m\u001b[0m\u001b[0m\n",
      "\u001b[0;31mModuleNotFoundError\u001b[0m: No module named 'fix_yahoo_finance'"
     ]
    }
   ],
   "source": []
  },
  {
   "cell_type": "code",
   "execution_count": 7,
   "metadata": {},
   "outputs": [
    {
     "ename": "ModuleNotFoundError",
     "evalue": "No module named 'talib'",
     "output_type": "error",
     "traceback": [
      "\u001b[0;31m---------------------------------------------------------------------------\u001b[0m",
      "\u001b[0;31mModuleNotFoundError\u001b[0m                       Traceback (most recent call last)",
      "\u001b[0;32m<ipython-input-7-39fbdb69ff19>\u001b[0m in \u001b[0;36m<module>\u001b[0;34m\u001b[0m\n\u001b[0;32m----> 1\u001b[0;31m \u001b[0;32mimport\u001b[0m \u001b[0mtalib\u001b[0m \u001b[0;32mas\u001b[0m \u001b[0mta\u001b[0m\u001b[0;34m\u001b[0m\u001b[0;34m\u001b[0m\u001b[0m\n\u001b[0m",
      "\u001b[0;31mModuleNotFoundError\u001b[0m: No module named 'talib'"
     ]
    }
   ],
   "source": [
    "\n"
   ]
  },
  {
   "cell_type": "code",
   "execution_count": 21,
   "metadata": {},
   "outputs": [
    {
     "name": "stdout",
     "output_type": "stream",
     "text": [
      "Requirement already satisfied: yfinance in /anaconda3/lib/python3.7/site-packages (0.1.49)\n",
      "Requirement already satisfied: pandas>=0.24 in /anaconda3/lib/python3.7/site-packages (from yfinance) (0.24.2)\n",
      "Requirement already satisfied: numpy>=1.15 in /anaconda3/lib/python3.7/site-packages (from yfinance) (1.16.4)\n",
      "Requirement already satisfied: multitasking>=0.0.7 in /anaconda3/lib/python3.7/site-packages (from yfinance) (0.0.9)\n",
      "Requirement already satisfied: requests>=2.20 in /anaconda3/lib/python3.7/site-packages (from yfinance) (2.22.0)\n",
      "Requirement already satisfied: python-dateutil>=2.5.0 in /anaconda3/lib/python3.7/site-packages (from pandas>=0.24->yfinance) (2.8.0)\n",
      "Requirement already satisfied: pytz>=2011k in /anaconda3/lib/python3.7/site-packages (from pandas>=0.24->yfinance) (2019.1)\n",
      "Requirement already satisfied: certifi>=2017.4.17 in /anaconda3/lib/python3.7/site-packages (from requests>=2.20->yfinance) (2019.6.16)\n",
      "Requirement already satisfied: idna<2.9,>=2.5 in /anaconda3/lib/python3.7/site-packages (from requests>=2.20->yfinance) (2.8)\n",
      "Requirement already satisfied: chardet<3.1.0,>=3.0.2 in /anaconda3/lib/python3.7/site-packages (from requests>=2.20->yfinance) (3.0.4)\n",
      "Requirement already satisfied: urllib3!=1.25.0,!=1.25.1,<1.26,>=1.21.1 in /anaconda3/lib/python3.7/site-packages (from requests>=2.20->yfinance) (1.24.2)\n",
      "Requirement already satisfied: six>=1.5 in /anaconda3/lib/python3.7/site-packages (from python-dateutil>=2.5.0->pandas>=0.24->yfinance) (1.12.0)\n"
     ]
    }
   ],
   "source": [
    "# Installation of yahoo finance\n",
    "!pip install yfinance\n"
   ]
  },
  {
   "cell_type": "code",
   "execution_count": 53,
   "metadata": {},
   "outputs": [],
   "source": [
    "#Import yfinance\n",
    "import yfinance as yf"
   ]
  },
  {
   "cell_type": "code",
   "execution_count": 54,
   "metadata": {},
   "outputs": [
    {
     "name": "stdout",
     "output_type": "stream",
     "text": [
      "Collecting pandas-datareader\n",
      "\u001b[?25l  Downloading https://files.pythonhosted.org/packages/14/52/accb990baebe0063977f26e02df36aa7eb4015ed4e86f828cd76273cd6f1/pandas_datareader-0.8.1-py2.py3-none-any.whl (107kB)\n",
      "\u001b[K     |████████████████████████████████| 112kB 646kB/s eta 0:00:01\n",
      "\u001b[?25hRequirement already satisfied: pandas>=0.21 in /anaconda3/lib/python3.7/site-packages (from pandas-datareader) (0.24.2)\n",
      "Requirement already satisfied: lxml in /anaconda3/lib/python3.7/site-packages (from pandas-datareader) (4.3.4)\n",
      "Requirement already satisfied: requests>=2.3.0 in /anaconda3/lib/python3.7/site-packages (from pandas-datareader) (2.22.0)\n",
      "Requirement already satisfied: pytz>=2011k in /anaconda3/lib/python3.7/site-packages (from pandas>=0.21->pandas-datareader) (2019.1)\n",
      "Requirement already satisfied: numpy>=1.12.0 in /anaconda3/lib/python3.7/site-packages (from pandas>=0.21->pandas-datareader) (1.16.4)\n",
      "Requirement already satisfied: python-dateutil>=2.5.0 in /anaconda3/lib/python3.7/site-packages (from pandas>=0.21->pandas-datareader) (2.8.0)\n",
      "Requirement already satisfied: idna<2.9,>=2.5 in /anaconda3/lib/python3.7/site-packages (from requests>=2.3.0->pandas-datareader) (2.8)\n",
      "Requirement already satisfied: urllib3!=1.25.0,!=1.25.1,<1.26,>=1.21.1 in /anaconda3/lib/python3.7/site-packages (from requests>=2.3.0->pandas-datareader) (1.24.2)\n",
      "Requirement already satisfied: certifi>=2017.4.17 in /anaconda3/lib/python3.7/site-packages (from requests>=2.3.0->pandas-datareader) (2019.6.16)\n",
      "Requirement already satisfied: chardet<3.1.0,>=3.0.2 in /anaconda3/lib/python3.7/site-packages (from requests>=2.3.0->pandas-datareader) (3.0.4)\n",
      "Requirement already satisfied: six>=1.5 in /anaconda3/lib/python3.7/site-packages (from python-dateutil>=2.5.0->pandas>=0.21->pandas-datareader) (1.12.0)\n",
      "Installing collected packages: pandas-datareader\n",
      "Successfully installed pandas-datareader-0.8.1\n"
     ]
    }
   ],
   "source": [
    "!pip install pandas-datareader"
   ]
  },
  {
   "cell_type": "code",
   "execution_count": null,
   "metadata": {},
   "outputs": [],
   "source": []
  },
  {
   "cell_type": "code",
   "execution_count": 32,
   "metadata": {},
   "outputs": [
    {
     "name": "stdout",
     "output_type": "stream",
     "text": [
      "[*********************100%***********************]  1 of 1 completed\n",
      "                  Open        High         Low       Close   Adj Close  \\\n",
      "Date                                                                     \n",
      "2016-02-01   96.470001   96.709999   95.400002   96.430000   90.381721   \n",
      "2016-02-02   95.419998   96.040001   94.279999   94.480003   88.554024   \n",
      "2016-02-03   95.000000   96.839996   94.080002   96.349998   90.306725   \n",
      "2016-02-04   95.860001   97.330002   95.190002   96.599998   91.032356   \n",
      "2016-02-05   96.519997   96.919998   93.690002   94.019997   88.601059   \n",
      "2016-02-08   93.129997   95.699997   93.040001   95.010002   89.533989   \n",
      "2016-02-09   94.290001   95.940002   93.930000   94.989998   89.515144   \n",
      "2016-02-10   95.919998   96.349998   94.099998   94.269997   88.836655   \n",
      "2016-02-11   93.790001   94.720001   92.589996   93.699997   88.299492   \n",
      "2016-02-12   94.190002   94.500000   93.010002   93.989998   88.572784   \n",
      "2016-02-16   95.019997   96.849998   94.610001   96.639999   91.070045   \n",
      "2016-02-17   96.669998   98.209999   96.150002   98.120003   92.464752   \n",
      "2016-02-18   98.839996   98.889999   96.089996   96.260002   90.711960   \n",
      "2016-02-19   96.000000   96.760002   95.800003   96.040001   90.504639   \n",
      "2016-02-22   96.309998   96.900002   95.919998   96.879997   91.296219   \n",
      "2016-02-23   96.400002   96.500000   94.550003   94.690002   89.232430   \n",
      "2016-02-24   93.980003   96.379997   93.320000   96.099998   90.561165   \n",
      "2016-02-25   96.050003   96.760002   95.250000   96.760002   91.183121   \n",
      "2016-02-26   97.199997   98.019997   96.580002   96.910004   91.324493   \n",
      "2016-02-29   96.860001   98.230003   96.650002   96.690002   91.117157   \n",
      "2016-03-01   97.650002  100.769997   97.419998  100.529999   94.735840   \n",
      "2016-03-02  100.510002  100.889999   99.639999  100.750000   94.943161   \n",
      "2016-03-03  100.580002  101.709999  100.449997  101.500000   95.649933   \n",
      "2016-03-04  102.370003  103.750000  101.370003  103.010002   97.072906   \n",
      "2016-03-07  102.389999  102.830002  100.959999  101.870003   95.998619   \n",
      "2016-03-08  100.779999  101.760002  100.400002  101.029999   95.207031   \n",
      "2016-03-09  101.309998  101.580002  100.269997  101.120003   95.291855   \n",
      "2016-03-10  101.410004  102.239998  100.150002  101.169998   95.338943   \n",
      "2016-03-11  102.239998  102.279999  101.500000  102.260002   96.366142   \n",
      "2016-03-14  101.910004  102.910004  101.779999  102.519997   96.611145   \n",
      "...                ...         ...         ...         ...         ...   \n",
      "2019-09-24  221.029999  222.490005  217.190002  217.679993  217.679993   \n",
      "2019-09-25  218.550003  221.500000  217.139999  221.029999  221.029999   \n",
      "2019-09-26  220.000000  220.940002  218.830002  219.889999  219.889999   \n",
      "2019-09-27  220.539993  220.960007  217.279999  218.820007  218.820007   \n",
      "2019-09-30  220.899994  224.580002  220.789993  223.970001  223.970001   \n",
      "2019-10-01  225.070007  228.220001  224.199997  224.589996  224.589996   \n",
      "2019-10-02  223.059998  223.580002  217.929993  218.960007  218.960007   \n",
      "2019-10-03  218.429993  220.960007  215.130005  220.820007  220.820007   \n",
      "2019-10-04  225.639999  227.490005  223.889999  227.009995  227.009995   \n",
      "2019-10-07  226.270004  229.929993  225.839996  227.059998  227.059998   \n",
      "2019-10-08  225.820007  228.059998  224.330002  224.399994  224.399994   \n",
      "2019-10-09  227.029999  227.789993  225.639999  227.029999  227.029999   \n",
      "2019-10-10  227.929993  230.440002  227.300003  230.089996  230.089996   \n",
      "2019-10-11  232.949997  237.639999  232.309998  236.210007  236.210007   \n",
      "2019-10-14  234.899994  238.130005  234.669998  235.869995  235.869995   \n",
      "2019-10-15  236.389999  237.649994  234.880005  235.320007  235.320007   \n",
      "2019-10-16  233.369995  235.240005  233.199997  234.369995  234.369995   \n",
      "2019-10-17  235.089996  236.149994  233.520004  235.279999  235.279999   \n",
      "2019-10-18  234.589996  237.580002  234.289993  236.410004  236.410004   \n",
      "2019-10-21  237.520004  240.990005  237.320007  240.509995  240.509995   \n",
      "2019-10-22  241.160004  242.199997  239.619995  239.960007  239.960007   \n",
      "2019-10-23  242.100006  243.240005  241.220001  243.179993  243.179993   \n",
      "2019-10-24  244.509995  244.800003  241.809998  243.580002  243.580002   \n",
      "2019-10-25  243.160004  246.729996  242.880005  246.580002  246.580002   \n",
      "2019-10-28  247.419998  249.250000  246.720001  249.050003  249.050003   \n",
      "2019-10-29  248.970001  249.750000  242.570007  243.289993  243.289993   \n",
      "2019-10-30  244.759995  245.300003  241.210007  243.259995  243.259995   \n",
      "2019-10-31  247.240005  249.169998  237.259995  248.759995  248.759995   \n",
      "2019-11-01  249.539993  255.929993  249.160004  255.820007  255.820007   \n",
      "2019-11-04  257.329987  257.850006  255.380005  257.500000  257.500000   \n",
      "\n",
      "              Volume  \n",
      "Date                  \n",
      "2016-02-01  40943500  \n",
      "2016-02-02  37357200  \n",
      "2016-02-03  45964300  \n",
      "2016-02-04  46471700  \n",
      "2016-02-05  46418100  \n",
      "2016-02-08  54021400  \n",
      "2016-02-09  44331200  \n",
      "2016-02-10  42343600  \n",
      "2016-02-11  50074700  \n",
      "2016-02-12  40351400  \n",
      "2016-02-16  49057900  \n",
      "2016-02-17  44863200  \n",
      "2016-02-18  39021000  \n",
      "2016-02-19  35374200  \n",
      "2016-02-22  34280800  \n",
      "2016-02-23  31942600  \n",
      "2016-02-24  36255700  \n",
      "2016-02-25  27582700  \n",
      "2016-02-26  28991100  \n",
      "2016-02-29  35216300  \n",
      "2016-03-01  50407100  \n",
      "2016-03-02  33169600  \n",
      "2016-03-03  36955700  \n",
      "2016-03-04  46055100  \n",
      "2016-03-07  35828900  \n",
      "2016-03-08  31561900  \n",
      "2016-03-09  27201700  \n",
      "2016-03-10  33513600  \n",
      "2016-03-11  27408200  \n",
      "2016-03-14  25076100  \n",
      "...              ...  \n",
      "2019-09-24  31190800  \n",
      "2019-09-25  21903400  \n",
      "2019-09-26  18833500  \n",
      "2019-09-27  25352000  \n",
      "2019-09-30  25977400  \n",
      "2019-10-01  34805800  \n",
      "2019-10-02  34612300  \n",
      "2019-10-03  28606500  \n",
      "2019-10-04  34619700  \n",
      "2019-10-07  30576500  \n",
      "2019-10-08  27955000  \n",
      "2019-10-09  18692600  \n",
      "2019-10-10  28253400  \n",
      "2019-10-11  41698900  \n",
      "2019-10-14  24106900  \n",
      "2019-10-15  21840000  \n",
      "2019-10-16  18475800  \n",
      "2019-10-17  16896300  \n",
      "2019-10-18  24358400  \n",
      "2019-10-21  21811800  \n",
      "2019-10-22  20573400  \n",
      "2019-10-23  18957200  \n",
      "2019-10-24  17318800  \n",
      "2019-10-25  18330500  \n",
      "2019-10-28  24143200  \n",
      "2019-10-29  35660100  \n",
      "2019-10-30  30950600  \n",
      "2019-10-31  34766600  \n",
      "2019-11-01  37738700  \n",
      "2019-11-04  25553100  \n",
      "\n",
      "[948 rows x 6 columns]\n"
     ]
    }
   ],
   "source": [
    "#Get the data for the stock Apple in a specific time\n",
    "data = yf.download('AAPL', '2016-01-31', '2019-11-05')\n",
    "print(data)"
   ]
  },
  {
   "cell_type": "code",
   "execution_count": 33,
   "metadata": {},
   "outputs": [
    {
     "data": {
      "image/png": "[encoded data removed]",
      "text/plain": [
       "<Figure size 432x288 with 1 Axes>"
      ]
     },
     "metadata": {
      "needs_background": "light"
     },
     "output_type": "display_data"
    }
   ],
   "source": [
    "#Plot graph\n",
    "import matplotlib.pyplot as plt\n",
    "data.Close.plot()\n",
    "plt.show()"
   ]
  },
  {
   "cell_type": "code",
   "execution_count": 62,
   "metadata": {},
   "outputs": [],
   "source": [
    "#2.0 SETTING UP THE TOOLS\n",
    "\n",
    "# Data Manupulation\n",
    "import numpy as np\n",
    "import pandas as pd\n",
    "\n",
    "# Techinical Indicators (Pending to solve)\n",
    "#!pip install TA Lib-0.4.17-cp38-cp38-win_amd64.whl\n",
    "#import TA_Lib as ta\n",
    "\n",
    "# Plotting graphs\n",
    "import matplotlib.pyplot as plt\n",
    "\n",
    "# Machine learning\n",
    "from sklearn.linear_model import LogisticRegression\n",
    "from sklearn import metrics\n",
    "#from sklearn.cross_validation import cross_val_score\n",
    "\n",
    "# Data fetching\n",
    "from pandas_datareader import data, wb\n",
    "import pandas_datareader as pdr\n",
    "import yfinance as yf\n",
    "yf.pdr_override()"
   ]
  },
  {
   "cell_type": "code",
   "execution_count": 69,
   "metadata": {},
   "outputs": [
    {
     "name": "stdout",
     "output_type": "stream",
     "text": [
      "[*********************100%***********************]  1 of 1 completed\n"
     ]
    }
   ],
   "source": [
    "#3.0 IMPORTING THE DATA FOR THE SAMPLE\n",
    "\n",
    "df = yf.download('TSLA','2019-10-31')\n",
    "\n",
    "#df = wb.get_data_yf('APPL', '2000-01-01', '2018-01-01')\n",
    "#df = df.dropna()\n",
    "#df = df.iloc[:,:4]\n",
    "#df.head()"
   ]
  },
  {
   "cell_type": "code",
   "execution_count": null,
   "metadata": {},
   "outputs": [],
   "source": []
  },
  {
   "cell_type": "code",
   "execution_count": null,
   "metadata": {},
   "outputs": [],
   "source": []
  }
 ],
 "metadata": {
  "kernelspec": {
   "display_name": "Python 3",
   "language": "python",
   "name": "python3"
  },
  "language_info": {
   "codemirror_mode": {
    "name": "ipython",
    "version": 3
   },
   "file_extension": ".py",
   "mimetype": "text/x-python",
   "name": "python",
   "nbconvert_exporter": "python",
   "pygments_lexer": "ipython3",
   "version": "3.7.3"
  }
 },
 "nbformat": 4,
 "nbformat_minor": 2
}
