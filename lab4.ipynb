{
 "cells": [
  {
   "cell_type": "code",
   "execution_count": 2,
   "metadata": {},
   "outputs": [
    {
     "name": "stdout",
     "output_type": "stream",
     "text": [
      "[1000.0, 1100.0, 1210.0000000000002, 1331.0000000000005, 1464.1000000000004, 1610.5100000000004]\n"
     ]
    }
   ],
   "source": [
    "#LAB nº4\n",
    "#1 Sales volume\n",
    "initialsale = 1000\n",
    "\n",
    "annualgrowth = 0.1\n",
    "\n",
    "numberofyears = 6\n",
    "\n",
    "SalesVolume=[]\n",
    "\n",
    "for i in range (0,numberofyears):\n",
    "    SalesVolume.append(initialsale*((1+annualgrowth)**i))\n",
    "\n",
    "print(SalesVolume)"
   ]
  },
  {
   "cell_type": "code",
   "execution_count": 4,
   "metadata": {},
   "outputs": [
    {
     "name": "stdout",
     "output_type": "stream",
     "text": [
      "[300.00000000000006, 330.00000000000006, 363.0000000000001, 399.3000000000002, 439.2300000000002, 483.1530000000002]\n"
     ]
    }
   ],
   "source": [
    "#1 Costs volume\n",
    "\n",
    "margin = 0.7\n",
    "\n",
    "Costs=[]\n",
    "\n",
    "for volume in SalesVolume:\n",
    "\n",
    "    Costs.append(volume*(1-margin))\n",
    "\n",
    "print(Costs)"
   ]
  },
  {
   "cell_type": "code",
   "execution_count": 5,
   "metadata": {},
   "outputs": [
    {
     "name": "stdout",
     "output_type": "stream",
     "text": [
      "[700.0, 770.0, 847.0000000000001, 931.7000000000003, 1024.8700000000001, 1127.3570000000002]\n"
     ]
    }
   ],
   "source": [
    "#3 Profits\n",
    "\n",
    "Profits=[]\n",
    "\n",
    "for i in range(0,numberofyears):\n",
    "\n",
    "    Profits.append(SalesVolume[i]-Costs[i])\n",
    "\n",
    "print(Profits)"
   ]
  },
  {
   "cell_type": "code",
   "execution_count": 39,
   "metadata": {},
   "outputs": [
    {
     "name": "stdout",
     "output_type": "stream",
     "text": [
      "[200.0, 270.0, 347.0000000000001, 431.7000000000003, 524.8700000000001, 627.3570000000002]\n"
     ]
    }
   ],
   "source": [
    "#4 Profit after fixed Cost\n",
    "\n",
    "fixedcost=500\n",
    "\n",
    "newProfit=[]\n",
    "\n",
    "for profit in Profits:\n",
    "\n",
    "    newProfit.append(profit-fixedcost)\n",
    "\n",
    "print(newProfit)"
   ]
  },
  {
   "cell_type": "code",
   "execution_count": 40,
   "metadata": {},
   "outputs": [
    {
     "name": "stdout",
     "output_type": "stream",
     "text": [
      "[969, 1799, 572, 1595, 1328, 1988]\n"
     ]
    }
   ],
   "source": [
    "#5 Random Volumes\n",
    "\n",
    "newSales=[]\n",
    "\n",
    "import random\n",
    "\n",
    "a=200\n",
    "b=2000\n",
    "\n",
    "for i in range (0,numberofyears):\n",
    "\n",
    "    newSales.append(random.randint(a,b))\n",
    "\n",
    "print(newSales)"
   ]
  },
  {
   "cell_type": "code",
   "execution_count": 41,
   "metadata": {},
   "outputs": [
    {
     "name": "stdout",
     "output_type": "stream",
     "text": [
      "[200.0, 270.0, 347.0000000000001, 431.7000000000003, 524.8700000000001, 627.3570000000002]\n"
     ]
    }
   ],
   "source": [
    "#4.1 Profit after fixed Cost (In another way)\n",
    "\n",
    "PM=.7\n",
    "\n",
    "fixedcost=500\n",
    "\n",
    "newProfit=[]\n",
    "\n",
    "for i in SalesVolume:\n",
    "\n",
    "    newProfit.append(i*PM-fixedcost)\n",
    "\n",
    "print(newProfit)"
   ]
  },
  {
   "cell_type": "code",
   "execution_count": 42,
   "metadata": {},
   "outputs": [
    {
     "name": "stdout",
     "output_type": "stream",
     "text": [
      "[178.29999999999995, 759.3, -99.60000000000002, 616.5, 429.5999999999999, 891.5999999999999]\n"
     ]
    }
   ],
   "source": [
    "#6 Profits from random volumes\n",
    "\n",
    "randomProfit=[]\n",
    "\n",
    "\n",
    "for i in newSales:\n",
    "\n",
    "    randomProfit.append(i*margin-fixedcost)\n",
    "\n",
    "print(randomProfit)"
   ]
  },
  {
   "cell_type": "code",
   "execution_count": 44,
   "metadata": {},
   "outputs": [
    {
     "name": "stdout",
     "output_type": "stream",
     "text": [
      "[1, 1, 0, 1, 1, 1]\n",
      "83.33333333333334\n"
     ]
    }
   ],
   "source": [
    "#7 Profitable years\n",
    "\n",
    "binary=[]\n",
    "\n",
    "for profit in randomProfit:\n",
    "\n",
    "    if profit>0:\n",
    "\n",
    "        binary.append(1)\n",
    "\n",
    "    else: binary.append(0)\n",
    "\n",
    "print(binary)\n",
    "\n",
    "percentageProfitYears=sum(binary)/len(binary)*100\n",
    "\n",
    "print(percentageProfitYears)"
   ]
  },
  {
   "cell_type": "code",
   "execution_count": 47,
   "metadata": {},
   "outputs": [
    {
     "data": {
      "image/png": "[encoded data removed]",
      "text/plain": [
       "<Figure size 432x288 with 1 Axes>"
      ]
     },
     "metadata": {
      "needs_background": "light"
     },
     "output_type": "display_data"
    }
   ],
   "source": [
    "#8 Plot\n",
    "\n",
    "import matplotlib.pyplot as plt\n",
    "\n",
    "plt.plot(SalesVolume)\n",
    "\n",
    "plt.plot(newSales)\n",
    "\n",
    "plt.ylabel('sales')\n",
    "\n",
    "plt.xlabel('years')\n",
    "\n",
    "plt.show()"
   ]
  },
  {
   "cell_type": "code",
   "execution_count": null,
   "metadata": {},
   "outputs": [],
   "source": []
  }
 ],
 "metadata": {
  "kernelspec": {
   "display_name": "Python 3",
   "language": "python",
   "name": "python3"
  },
  "language_info": {
   "codemirror_mode": {
    "name": "ipython",
    "version": 3
   },
   "file_extension": ".py",
   "mimetype": "text/x-python",
   "name": "python",
   "nbconvert_exporter": "python",
   "pygments_lexer": "ipython3",
   "version": "3.7.3"
  }
 },
 "nbformat": 4,
 "nbformat_minor": 2
}
